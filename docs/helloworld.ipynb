{
 "cells": [
  {
   "cell_type": "markdown",
   "metadata": {},
   "source": [
    "# RoleML Helloworld\n",
    "\n",
    "This notebook contains a minimal application of RoleML."
   ]
  },
  {
   "cell_type": "markdown",
   "metadata": {},
   "source": [
    "## Basic Concepts\n",
    "\n",
    "In RoleML, **roles** are functional components that interact with each other within a DML architecture. Each role encapsulates a set of message _channels_ that serve as interfaces for other roles. A _DML architecture_ can be expressed by a couple of roles. The most common roles include Trainer (to maintain local model and perform training), Aggregator (to perform model aggregation) and Coordinator (to define the overall workflow of the server or an independent client).\n",
    "\n",
    "There are three types of channels: _services_ and tasks stand for synchronous and asynchronous function calls respectively, which are used in directional communication. Events follow the publish-subscribe model and are used for non-directional communication. All channels defined in a role should focus on a single responsibility such as training or aggregation.\n",
    "\n",
    "Sometimes a role needs to interact with different types of roles. A new abstraction called _relationship_ is therefore introduced to manage this. Each relationship is represented by a name and mapped to a list of instantiated roles on runtime. For example, a relationship named trainers may contain a list of Trainer instances on different clients, from which a Client Selector can select participants. Relationships are configured at the node level and only the names will be referenced by the roles."
   ]
  },
  {
   "cell_type": "markdown",
   "metadata": {},
   "source": [
    "## A Minimal Application"
   ]
  },
  {
   "cell_type": "markdown",
   "metadata": {},
   "source": [
    "Step 1 - import RoleML:"
   ]
  },
  {
   "cell_type": "code",
   "execution_count": null,
   "metadata": {},
   "outputs": [],
   "source": [
    "import roleml.essentials as rml\n",
    "from roleml.kits.interfaces import Runnable"
   ]
  },
  {
   "cell_type": "markdown",
   "metadata": {},
   "source": [
    "Step 2 - define roles. Here we define a role with a service channel and use another role to call this service:"
   ]
  },
  {
   "cell_type": "code",
   "execution_count": null,
   "metadata": {},
   "outputs": [],
   "source": [
    "class Helloworld(rml.Role):\n",
    "\n",
    "    @rml.Service()\n",
    "    def echo(self, caller, args, payloads):\n",
    "        return 'hello world!'"
   ]
  },
  {
   "cell_type": "code",
   "execution_count": null,
   "metadata": {},
   "outputs": [],
   "source": [
    "class Player(rml.Role, Runnable):\n",
    "\n",
    "    def run(self):\n",
    "        \"\"\" Runnable.run() will be automatically executed when deployed on an actor \"\"\"\n",
    "        print(self.call('helloworld', 'echo'))"
   ]
  },
  {
   "cell_type": "markdown",
   "metadata": {},
   "source": [
    "Step 3 - write a configuration to put these roles in an actor:"
   ]
  },
  {
   "cell_type": "code",
   "execution_count": null,
   "metadata": {},
   "outputs": [],
   "source": [
    "conf = {\n",
    "    'name': 'roleml-abc',\n",
    "    'address': '127.0.0.1:5000',\n",
    "    'roles': {\n",
    "        'helloworld': {\n",
    "            'class': '__main__.Helloworld'\n",
    "        },\n",
    "        'player': {\n",
    "            'class': '__main__.Player'\n",
    "        }\n",
    "    }\n",
    "}   # type: rml.ActorBootstrapSpec"
   ]
  },
  {
   "cell_type": "markdown",
   "metadata": {},
   "source": [
    "Step 4 - build the actor and run it!\n",
    "\n",
    "**The actor will just keep running. if you can see the helloworld output, you may stop running the cell to stop the actor.**"
   ]
  },
  {
   "cell_type": "code",
   "execution_count": null,
   "metadata": {},
   "outputs": [],
   "source": [
    "builder = rml.ActorBuilder()\n",
    "builder.load_config(conf)\n",
    "actor = builder.build()\n",
    "actor.run()     # will not stop unless manually interrupted"
   ]
  },
  {
   "cell_type": "markdown",
   "metadata": {},
   "source": [
    "## Make It Distributed\n",
    "\n",
    "Let's try to put the two roles in different actors:"
   ]
  },
  {
   "cell_type": "code",
   "execution_count": null,
   "metadata": {},
   "outputs": [],
   "source": [
    "from roleml.extensions.messaging.invokers.requests import RequestsProcedureInvoker\n",
    "from roleml.extensions.messaging.providers.flask import FlaskProcedureProvider"
   ]
  },
  {
   "cell_type": "code",
   "execution_count": null,
   "metadata": {},
   "outputs": [],
   "source": [
    "conf_helloworld = {\n",
    "    'name': 'a1',\n",
    "    'address': '127.0.0.1:5001',\n",
    "    # 'procedure_invoker': RequestsProcedureInvoker,\n",
    "    'procedure_provider': FlaskProcedureProvider,\n",
    "    'contacts': {\n",
    "        'a2': '127.0.0.1:5002'\n",
    "    },\n",
    "    'roles': {\n",
    "        'helloworld': {\n",
    "            'class': '__main__.Helloworld'\n",
    "        }\n",
    "    }\n",
    "}   # type: rml.ActorBootstrapSpec"
   ]
  },
  {
   "cell_type": "code",
   "execution_count": null,
   "metadata": {},
   "outputs": [],
   "source": [
    "conf_player = {\n",
    "    'name': 'a2',\n",
    "    'address': '127.0.0.1:5002',\n",
    "    'procedure_invoker': RequestsProcedureInvoker,\n",
    "    # 'procedure_provider': FlaskProcedureProvider,\n",
    "    'roles': {\n",
    "        'player': {\n",
    "            'class': '__main__.Player'\n",
    "        }\n",
    "    },\n",
    "    'contacts': {\n",
    "        'a1': '127.0.0.1:5001'\n",
    "    },\n",
    "    'relationships': {\n",
    "        'helloworld': ['a1/helloworld']\n",
    "    }\n",
    "}   # type: rml.ActorBootstrapSpec"
   ]
  },
  {
   "cell_type": "markdown",
   "metadata": {},
   "source": [
    "Since `Player` needs to call the service in `Helloworld`, actor `a2` needs to know the network address of `a1`. Meanwhile, the service provider side needs to know who calls the service (reflected in the `caller` argument which represents the calling role instance), and therefore actor `a1` also needs to know the network address of `a2`.\n",
    "\n",
    "The Helloworld role states that it needs to call a service on a role that belong to the relationship `helloworld`. When both roles are in the same actor, we don't need to manually configure the relationship because the actor will fall back to find a local role instance named `helloworld`. However, when both roles are in different actors, the relationship must be configured. Note that relationships are directional - `a1` does not necessarily need to know what roles on `a2` mean to it."
   ]
  },
  {
   "cell_type": "markdown",
   "metadata": {},
   "source": [
    "Now we start both actors in separate threads:"
   ]
  },
  {
   "cell_type": "code",
   "execution_count": null,
   "metadata": {},
   "outputs": [],
   "source": [
    "from threading import Thread"
   ]
  },
  {
   "cell_type": "code",
   "execution_count": null,
   "metadata": {},
   "outputs": [],
   "source": [
    "builder = rml.ActorBuilder()\n",
    "builder.load_config(conf_helloworld)\n",
    "a1 = builder.build()\n",
    "t1 = Thread(target=a1.run)\n",
    "t1.start()"
   ]
  },
  {
   "cell_type": "code",
   "execution_count": null,
   "metadata": {},
   "outputs": [],
   "source": [
    "builder = rml.ActorBuilder()\n",
    "builder.load_config(conf_player)\n",
    "a2 = builder.build()\n",
    "t2 = Thread(target=a2.run)\n",
    "t2.start()"
   ]
  },
  {
   "cell_type": "markdown",
   "metadata": {},
   "source": [
    "If everything goes fine, you should see the helloworld output. Finally, let's stop the actors gracefully:"
   ]
  },
  {
   "cell_type": "code",
   "execution_count": null,
   "metadata": {},
   "outputs": [],
   "source": [
    "a1.stop()\n",
    "a2.stop()"
   ]
  },
  {
   "cell_type": "markdown",
   "metadata": {},
   "source": [
    "## What's Next?\n",
    "\n",
    "[RoleML in 100 minutes](./LEARN.ipynb) is a Jupyter notebook that will introduce more detail of RoleML in a case study. Also check other documents in the `docs` directory of the source code archive."
   ]
  }
 ],
 "metadata": {
  "kernelspec": {
   "display_name": "roleml-new",
   "language": "python",
   "name": "python3"
  },
  "language_info": {
   "codemirror_mode": {
    "name": "ipython",
    "version": 3
   },
   "file_extension": ".py",
   "mimetype": "text/x-python",
   "name": "python",
   "nbconvert_exporter": "python",
   "pygments_lexer": "ipython3",
   "version": "3.10.14"
  }
 },
 "nbformat": 4,
 "nbformat_minor": 2
}
